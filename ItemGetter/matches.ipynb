{
 "cells": [
  {
   "cell_type": "code",
   "execution_count": 2,
   "metadata": {
    "collapsed": true
   },
   "outputs": [],
   "source": [
    "import os\n",
    "from datetime import datetime\n",
    "from collections import deque\n",
    "import time as t\n",
    "import pickle\n",
    "from cassiopeia import riotapi\n",
    "from cassiopeia.type.api.exception import APIError\n",
    "from cassiopeia.type.core.common import LoadPolicy\n",
    "from set_up import set_up, set_up2, set_up3"
   ]
  },
  {
   "cell_type": "code",
   "execution_count": 3,
   "metadata": {
    "collapsed": true
   },
   "outputs": [],
   "source": [
    "set_up('KR')"
   ]
  },
  {
   "cell_type": "code",
   "execution_count": 4,
   "metadata": {
    "collapsed": true
   },
   "outputs": [],
   "source": [
    "def auto_retry(api_call_method):\n",
    "    \"\"\" A decorator to automatically retry 500s (Service Unavailable)\n",
    "    and skip 400s (Bad Request) or 404s (Not Found). \"\"\"\n",
    "    def call_wrapper(*args, **kwargs):\n",
    "        try:\n",
    "            return api_call_method(*args, **kwargs)\n",
    "        except APIError as error:\n",
    "            # Try Again Once\n",
    "            if error.error_code in [500]:\n",
    "                try:\n",
    "                    print(\"Got a 500, trying again...\")\n",
    "                    return api_call_method(*args, **kwargs)\n",
    "                except APIError as another_error:\n",
    "                    if another_error.error_code in [500, 400, 404]:\n",
    "                        pass\n",
    "                    elif another_error.error_code in [503]:\n",
    "                        print('Found a 503')\n",
    "                        t.sleep(120)\n",
    "                    else:\n",
    "                        raise another_error\n",
    "\n",
    "            # Skip\n",
    "            elif error.error_code in [400, 404]:\n",
    "                print(\"Got a 400 or 404\")\n",
    "                pass\n",
    "\n",
    "            # Fatal\n",
    "            else:\n",
    "                raise error\n",
    "    return call_wrapper"
   ]
  },
  {
   "cell_type": "code",
   "execution_count": 5,
   "metadata": {
    "collapsed": true
   },
   "outputs": [],
   "source": [
    "riotapi.get_match = auto_retry(riotapi.get_match)\n",
    "riotapi.get_summoner_by_id = auto_retry(riotapi.get_summoner_by_id)\n",
    "riotapi.get_summoner_by_name = auto_retry(riotapi.get_summoner_by_name)"
   ]
  },
  {
   "cell_type": "code",
   "execution_count": 29,
   "metadata": {},
   "outputs": [],
   "source": [
    "unpulled_summoners = deque(entry.summoner for entry in riotapi.get_challenger())"
   ]
  },
  {
   "cell_type": "code",
   "execution_count": 30,
   "metadata": {},
   "outputs": [],
   "source": [
    "gather_start = datetime(2017, 7, 12)\n",
    "match_set = set()\n",
    "total_req = 0"
   ]
  },
  {
   "cell_type": "code",
   "execution_count": 31,
   "metadata": {
    "collapsed": false
   },
   "outputs": [
    {
     "name": "stdout",
     "output_type": "stream",
     "text": [
      "set_up1\n"
     ]
    },
    {
     "name": "stdout",
     "output_type": "stream",
     "text": [
      "summMatchList 21\nStored Match #2882982944 in my database\nStored Match #2882929189 in my database\nStored Match #2882892989 in my database\nStored Match #2882829445 in my database\nStored Match #2882816431 in my database\nStored Match #2882842648 in my database\nStored Match #2882758496 in my database\nStored Match #2882734819 in my database\nStored Match #2882732493 in my database\nStored Match #2881884027 in my database\nStored Match #2881890354 in my database\nStored Match #2881807909 in my database\nStored Match #2881804167 in my database\nStored Match #2881429397 in my database\nStored Match #2881427901 in my database\nStored Match #2880927873 in my database\nStored Match #2880934633 in my database\nStored Match #2880911057 in my database\nStored Match #2880838008 in my database\nStored Match #2880843175 in my database\nStored Match #2880821436 in my database\n2 index\n1 pulled summoner\nset_up2\n"
     ]
    },
    {
     "name": "stdout",
     "output_type": "stream",
     "text": [
      "summMatchList 3\nStored Match #2882251911 in my database\nStored Match #2881234412 in my database\nStored Match #2881211660 in my database\n3 index\n2 pulled summoner\nset_up3\n"
     ]
    },
    {
     "name": "stdout",
     "output_type": "stream",
     "text": [
      "summMatchList 1\nStored Match #2882912190 in my database\n4 index\n3 pulled summoner\nset_up1\n"
     ]
    },
    {
     "name": "stdout",
     "output_type": "stream",
     "text": [
      "summMatchList 27\nStored Match #2883083986 in my database\nStored Match #2882938203 in my database\nStored Match #2882905690 in my database\nStored Match #2882910507 in my database\nStored Match #2882836658 in my database\nStored Match #2882842648 in my database\nStored Match #2882718201 in my database\nStored Match #2882284837 in my database\nStored Match #2882274096 in my database\nStored Match #2882242932 in my database\nStored Match #2882280212 in my database\nStored Match #2882188271 in my database\nStored Match #2882175104 in my database\nStored Match #2882163015 in my database\nStored Match #2882088003 in my database\nStored Match #2881962364 in my database\nStored Match #2881899218 in my database\nStored Match #2881294128 in my database\nStored Match #2881239941 in my database\nStored Match #2881238652 in my database\nStored Match #2881216940 in my database\nStored Match #2881214802 in my database\nStored Match #2881144398 in my database\nStored Match #2881019474 in my database\n"
     ]
    },
    {
     "name": "stdout",
     "output_type": "stream",
     "text": [
      "Stored Match #2881025752 in my database\nStored Match #2881031376 in my database\nStored Match #2880937574 in my database\n5 index\n4 pulled summoner\nset_up2\n"
     ]
    },
    {
     "name": "stdout",
     "output_type": "stream",
     "text": [
      "summMatchList 8\nStored Match #2881398931 in my database\nStored Match #2881397487 in my database\nStored Match #2881425695 in my database\nStored Match #2881321035 in my database\nStored Match #2881239941 in my database\nStored Match #2881238652 in my database\nStored Match #2881216111 in my database\nStored Match #2881233229 in my database\n6 index\n5 pulled summoner\nset_up3\n"
     ]
    },
    {
     "name": "stdout",
     "output_type": "stream",
     "text": [
      "summMatchList 0\n7 index\n6 pulled summoner\nset_up1\n"
     ]
    },
    {
     "name": "stdout",
     "output_type": "stream",
     "text": [
      "summMatchList 18\nStored Match #2883083986 in my database\nStored Match #2881324335 in my database\nStored Match #2881332964 in my database\nStored Match #2881311741 in my database\nStored Match #2881300181 in my database\nStored Match #2881228224 in my database\nStored Match #2881234183 in my database\nStored Match #2881144398 in my database\nStored Match #2881140474 in my database\nStored Match #2881045004 in my database\n503\n"
     ]
    }
   ],
   "source": [
    "pulled_summoners = deque()\n",
    "gather_start = datetime(2017, 7, 12)\n",
    "match_set = set()\n",
    "i = 1\n",
    "while len(unpulled_summoners) > 0:\n",
    "    try:\n",
    "        if i in range(1,201,3):\n",
    "            set_up('KR')\n",
    "            print('set_up1')\n",
    "        elif i in range(2,201,3):\n",
    "            set_up2('KR')\n",
    "            print('set_up2')\n",
    "        elif i in range(3,201,3):\n",
    "            set_up3('KR')\n",
    "            print('set_up3')\n",
    "        summoner = unpulled_summoners.popleft()\n",
    "        summMatchList = summoner.match_list(begin_time=gather_start)\n",
    "        print('summMatchList' , len(summMatchList))\n",
    "        for match_reference in summMatchList:\n",
    "        # If you are connected to a database, the match will automatically be stored in it.\n",
    "        # Simply pull the match, and it's in your database for whenever you need it again!\n",
    "        # If you pull a match twice, the second time it will be loaded from the database rather than pulled from Riot\n",
    "        # and therefore will not count against your rate limit. This is true of all datatypes, include Summoner.\n",
    "            match = riotapi.get_match(match_reference)\n",
    "            # t.sleep(15)\n",
    "            if match is None:  # If the match still fails to load, continue on to the next one\n",
    "                continue\n",
    "            elif str(match) in match_set:\n",
    "                print('Found duplicate' + match)\n",
    "                continue\n",
    "            else:\n",
    "                match_set.add(match)\n",
    "                print(\"Stored {0} in my database\".format(match))\n",
    "                #t.sleep(15)\n",
    "                with open('matches.txt', 'a+') as handle:\n",
    "                    handle.write(str(match)+ ' ')\n",
    "        pulled_summoners.append(summoner)\n",
    "        i+=1\n",
    "        print(i, 'index')\n",
    "        #print('Sleeping')\n",
    "        #t.sleep(60)\n",
    "        print(len(pulled_summoners), 'pulled summoner')\n",
    "    except:\n",
    "        print('503')\n",
    "        t.sleep(30)\n",
    "        continue\n",
    "print('Done')"
   ]
  },
  {
   "cell_type": "code",
   "execution_count": null,
   "metadata": {},
   "outputs": [],
   "source": [
    ""
   ]
  }
 ],
 "metadata": {
  "kernelspec": {
   "display_name": "Python 3",
   "language": "python",
   "name": "python3"
  },
  "language_info": {
   "codemirror_mode": {
    "name": "ipython",
    "version": 3.0
   },
   "file_extension": ".py",
   "mimetype": "text/x-python",
   "name": "python",
   "nbconvert_exporter": "python",
   "pygments_lexer": "ipython3",
   "version": "3.6.1"
  }
 },
 "nbformat": 4,
 "nbformat_minor": 0
}