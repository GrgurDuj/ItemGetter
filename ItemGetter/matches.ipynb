{
 "cells": [
  {
   "cell_type": "code",
   "execution_count": 9,
   "metadata": {
    "collapsed": true
   },
   "outputs": [],
   "source": [
    "import os\n",
    "from datetime import datetime\n",
    "from collections import deque\n",
    "import time as t\n",
    "from cassiopeia import riotapi\n",
    "from cassiopeia.type.api.exception import APIError\n",
    "from cassiopeia.type.core.common import LoadPolicy\n",
    "from set_up import set_up, set_up2, set_up3"
   ]
  },
  {
   "cell_type": "code",
   "execution_count": 2,
   "metadata": {
    "collapsed": true
   },
   "outputs": [],
   "source": [
    "set_up('KR')"
   ]
  },
  {
   "cell_type": "code",
   "execution_count": 3,
   "metadata": {
    "collapsed": true
   },
   "outputs": [],
   "source": [
    "def auto_retry(api_call_method):\n",
    "    \"\"\" A decorator to automatically retry 500s (Service Unavailable)\n",
    "    and skip 400s (Bad Request) or 404s (Not Found). \"\"\"\n",
    "    def call_wrapper(*args, **kwargs):\n",
    "        try:\n",
    "            return api_call_method(*args, **kwargs)\n",
    "        except APIError as error:\n",
    "            # Try Again Once\n",
    "            if error.error_code in [500]:\n",
    "                try:\n",
    "                    print(\"Got a 500, trying again...\")\n",
    "                    return api_call_method(*args, **kwargs)\n",
    "                except APIError as another_error:\n",
    "                    if another_error.error_code in [500, 400, 404]:\n",
    "                        pass\n",
    "                    elif another_error.error_code in [503]:\n",
    "                        print('Found a 503')\n",
    "                        t.sleep(120)\n",
    "                    else:\n",
    "                        raise another_error\n",
    "\n",
    "            # Skip\n",
    "            elif error.error_code in [400, 404]:\n",
    "                print(\"Got a 400 or 404\")\n",
    "                pass\n",
    "\n",
    "            # Fatal\n",
    "            else:\n",
    "                raise error\n",
    "    return call_wrapper"
   ]
  },
  {
   "cell_type": "code",
   "execution_count": 4,
   "metadata": {
    "collapsed": true
   },
   "outputs": [],
   "source": [
    "riotapi.get_match = auto_retry(riotapi.get_match)\n",
    "riotapi.get_summoner_by_id = auto_retry(riotapi.get_summoner_by_id)\n",
    "riotapi.get_summoner_by_name = auto_retry(riotapi.get_summoner_by_name)"
   ]
  },
  {
   "cell_type": "code",
   "execution_count": 5,
   "metadata": {},
   "outputs": [],
   "source": [
    "unpulled_summoners = deque(entry.summoner for entry in riotapi.get_challenger())"
   ]
  },
  {
   "cell_type": "code",
   "execution_count": 22,
   "metadata": {
    "collapsed": true
   },
   "outputs": [],
   "source": [
    "gather_start = datetime(2017, 7, 12)\n",
    "match_set = set()"
   ]
  },
  {
   "cell_type": "code",
   "execution_count": 16,
   "metadata": {},
   "outputs": [],
   "source": [
    "total_req = 0\n",
    "def check_req():\n",
    "    global total_req   \n",
    "    print('check print',total_req)\n",
    "    if total_req >= 190:\n",
    "        print('Request overload, sleeping.')\n",
    "        t.sleep(120)\n",
    "        total_req = 0\n",
    "    return\n",
    "def inc_req(inc):\n",
    "    global total_req\n",
    "    \n",
    "    total_req += inc\n",
    "    print('inc print::new',total_req)"
   ]
  },
  {
   "cell_type": "code",
   "execution_count": 23,
   "metadata": {},
   "outputs": [
    {
     "name": "stdout",
     "output_type": "stream",
     "text": [
      "summMatchList 1\n"
     ]
    },
    {
     "name": "stdout",
     "output_type": "stream",
     "text": [
      "Stored Match #2881804002 in my database\n"
     ]
    },
    {
     "name": "stdout",
     "output_type": "stream",
     "text": [
      "1\n"
     ]
    },
    {
     "name": "stdout",
     "output_type": "stream",
     "text": [
      "summMatchList 10\n"
     ]
    },
    {
     "name": "stdout",
     "output_type": "stream",
     "text": [
      "Stored Match #2881791618 in my database\nStored Match #2881316639 in my database\nStored Match #2881296002 in my database\n"
     ]
    },
    {
     "name": "stdout",
     "output_type": "stream",
     "text": [
      "Stored Match #2881295343 in my database\nStored Match #2881333728 in my database\nStored Match #2881322386 in my database\n"
     ]
    },
    {
     "name": "stdout",
     "output_type": "stream",
     "text": [
      "Stored Match #2881320538 in my database\nStored Match #2880836671 in my database\nStored Match #2880824271 in my database\n"
     ]
    },
    {
     "name": "stdout",
     "output_type": "stream",
     "text": [
      "Stored Match #2880852160 in my database\n"
     ]
    },
    {
     "name": "stdout",
     "output_type": "stream",
     "text": [
      "2\n"
     ]
    },
    {
     "name": "stdout",
     "output_type": "stream",
     "text": [
      "summMatchList 7\nStored Match #2881333728 in my database\n"
     ]
    },
    {
     "name": "stdout",
     "output_type": "stream",
     "text": [
      "Stored Match #2881302769 in my database\nStored Match #2881320538 in my database\nStored Match #2881128788 in my database\nStored Match #2880836671 in my database\nStored Match #2880864353 in my database\nStored Match #2880842043 in my database\n"
     ]
    },
    {
     "name": "stdout",
     "output_type": "stream",
     "text": [
      "3\n"
     ]
    },
    {
     "name": "stdout",
     "output_type": "stream",
     "text": [
      "summMatchList 0\n"
     ]
    },
    {
     "name": "stdout",
     "output_type": "stream",
     "text": [
      "4\n"
     ]
    },
    {
     "name": "stdout",
     "output_type": "stream",
     "text": [
      "summMatchList 5\n"
     ]
    },
    {
     "name": "stdout",
     "output_type": "stream",
     "text": [
      "Stored Match #2881200996 in my database\nStored Match #2880912086 in my database\n"
     ]
    },
    {
     "name": "stdout",
     "output_type": "stream",
     "text": [
      "Stored Match #2880940190 in my database\n"
     ]
    },
    {
     "name": "stdout",
     "output_type": "stream",
     "text": [
      "Stored Match #2880826922 in my database\nStored Match #2880824271 in my database\n"
     ]
    },
    {
     "name": "stdout",
     "output_type": "stream",
     "text": [
      "5\n"
     ]
    },
    {
     "name": "stdout",
     "output_type": "stream",
     "text": [
      "summMatchList 2\n"
     ]
    },
    {
     "name": "stdout",
     "output_type": "stream",
     "text": [
      "Stored Match #2881790553 in my database\nStored Match #2880728159 in my database\n"
     ]
    },
    {
     "name": "stdout",
     "output_type": "stream",
     "text": [
      "6\n"
     ]
    },
    {
     "name": "stdout",
     "output_type": "stream",
     "text": [
      "summMatchList 5\n"
     ]
    },
    {
     "name": "stdout",
     "output_type": "stream",
     "text": [
      "Stored Match #2881333179 in my database\nStored Match #2881311741 in my database\nStored Match #2881237535 in my database\nStored Match #2881205271 in my database\nStored Match #2881211660 in my database\n"
     ]
    },
    {
     "name": "stdout",
     "output_type": "stream",
     "text": [
      "7\n"
     ]
    },
    {
     "name": "stdout",
     "output_type": "stream",
     "text": [
      "summMatchList 3\nStored Match #2881333728 in my database\nStored Match #2881292379 in my database\nStored Match #2881144398 in my database\n"
     ]
    },
    {
     "name": "stdout",
     "output_type": "stream",
     "text": [
      "8\n"
     ]
    },
    {
     "name": "stdout",
     "output_type": "stream",
     "text": [
      "summMatchList 10\nStored Match #2881217780 in my database\nStored Match #2881234412 in my database\nStored Match #2881212190 in my database\nStored Match #2880937117 in my database\nStored Match #2880911057 in my database\n"
     ]
    },
    {
     "name": "stdout",
     "output_type": "stream",
     "text": [
      "Stored Match #2880837463 in my database\nStored Match #2880824271 in my database\nStored Match #2880696133 in my database\n"
     ]
    },
    {
     "name": "stdout",
     "output_type": "stream",
     "text": [
      "Stored Match #2880724509 in my database\nStored Match #2880613580 in my database\n"
     ]
    },
    {
     "name": "stdout",
     "output_type": "stream",
     "text": [
      "9\n"
     ]
    },
    {
     "name": "stdout",
     "output_type": "stream",
     "text": [
      "summMatchList 9\n"
     ]
    },
    {
     "name": "stdout",
     "output_type": "stream",
     "text": [
      "Stored Match #2881304153 in my database\nStored Match #2881292379 in my database\nStored Match #2881330051 in my database\n"
     ]
    },
    {
     "name": "stdout",
     "output_type": "stream",
     "text": [
      "Stored Match #2881217440 in my database\nStored Match #2881234412 in my database\n"
     ]
    },
    {
     "name": "stdout",
     "output_type": "stream",
     "text": [
      "Stored Match #2881192009 in my database\nStored Match #2881129486 in my database\nStored Match #2881143034 in my database\nStored Match #2880723915 in my database\n"
     ]
    },
    {
     "name": "stdout",
     "output_type": "stream",
     "text": [
      "10\n"
     ]
    },
    {
     "name": "stdout",
     "output_type": "stream",
     "text": [
      "summMatchList 0\n"
     ]
    },
    {
     "name": "stdout",
     "output_type": "stream",
     "text": [
      "11\n"
     ]
    },
    {
     "name": "stdout",
     "output_type": "stream",
     "text": [
      "summMatchList 6\n"
     ]
    },
    {
     "name": "stdout",
     "output_type": "stream",
     "text": [
      "Stored Match #2881302717 in my database\nStored Match #2881330051 in my database\nStored Match #2881208703 in my database\nStored Match #2881234183 in my database\nStored Match #2881116736 in my database\n"
     ]
    },
    {
     "name": "stdout",
     "output_type": "stream",
     "text": [
      "Stored Match #2881123748 in my database\n"
     ]
    },
    {
     "name": "stdout",
     "output_type": "stream",
     "text": [
      "12\n"
     ]
    },
    {
     "name": "stdout",
     "output_type": "stream",
     "text": [
      "summMatchList 13\n"
     ]
    },
    {
     "name": "stdout",
     "output_type": "stream",
     "text": [
      "Stored Match #2881862735 in my database\nStored Match #2881789862 in my database\n"
     ]
    },
    {
     "name": "stdout",
     "output_type": "stream",
     "text": [
      "Stored Match #2881767248 in my database\nStored Match #2881304153 in my database\nStored Match #2881302769 in my database\nStored Match #2881330347 in my database\n"
     ]
    },
    {
     "name": "stdout",
     "output_type": "stream",
     "text": [
      "Stored Match #2881208464 in my database\nStored Match #2881225649 in my database\nStored Match #2881220916 in my database\n"
     ]
    },
    {
     "name": "stdout",
     "output_type": "stream",
     "text": [
      "Stored Match #2881125405 in my database\n"
     ]
    },
    {
     "name": "stdout",
     "output_type": "stream",
     "text": [
      "Stored Match #2880944166 in my database\nStored Match #2880859718 in my database\nStored Match #2880845668 in my database\n"
     ]
    },
    {
     "name": "stdout",
     "output_type": "stream",
     "text": [
      "13\n"
     ]
    },
    {
     "name": "stdout",
     "output_type": "stream",
     "text": [
      "summMatchList 7\n"
     ]
    },
    {
     "name": "stdout",
     "output_type": "stream",
     "text": [
      "Stored Match #2882053941 in my database\nStored Match #2881985023 in my database\nStored Match #2881862735 in my database\nStored Match #2881799537 in my database\nStored Match #2881796962 in my database\nStored Match #2881804167 in my database\n"
     ]
    },
    {
     "name": "stdout",
     "output_type": "stream",
     "text": [
      "Stored Match #2880913166 in my database\n"
     ]
    },
    {
     "name": "stdout",
     "output_type": "stream",
     "text": [
      "14\n"
     ]
    },
    {
     "name": "stdout",
     "output_type": "stream",
     "text": [
      "summMatchList 2\n"
     ]
    },
    {
     "name": "stdout",
     "output_type": "stream",
     "text": [
      "Stored Match #2881295640 in my database\n"
     ]
    },
    {
     "name": "stdout",
     "output_type": "stream",
     "text": [
      "Stored Match #2881314307 in my database\n"
     ]
    },
    {
     "name": "stdout",
     "output_type": "stream",
     "text": [
      "15\n"
     ]
    },
    {
     "name": "stdout",
     "output_type": "stream",
     "text": [
      "summMatchList 0\n"
     ]
    },
    {
     "name": "stdout",
     "output_type": "stream",
     "text": [
      "16\n"
     ]
    },
    {
     "name": "stdout",
     "output_type": "stream",
     "text": [
      "summMatchList 0\n"
     ]
    },
    {
     "name": "stdout",
     "output_type": "stream",
     "text": [
      "17\n"
     ]
    },
    {
     "name": "stdout",
     "output_type": "stream",
     "text": [
      "summMatchList 2\n"
     ]
    },
    {
     "name": "stdout",
     "output_type": "stream",
     "text": [
      "Stored Match #2881871584 in my database\nStored Match #2880937117 in my database\n"
     ]
    },
    {
     "name": "stdout",
     "output_type": "stream",
     "text": [
      "18\n"
     ]
    },
    {
     "name": "stdout",
     "output_type": "stream",
     "text": [
      "summMatchList 6\nStored Match #2881324335 in my database\nStored Match #2881333179 in my database\nStored Match #2881321035 in my database\nStored Match #2881239941 in my database\n"
     ]
    },
    {
     "name": "stdout",
     "output_type": "stream",
     "text": [
      "Stored Match #2881237442 in my database\nStored Match #2881234183 in my database\n"
     ]
    },
    {
     "name": "stdout",
     "output_type": "stream",
     "text": [
      "19\n"
     ]
    },
    {
     "name": "stdout",
     "output_type": "stream",
     "text": [
      "summMatchList 7\n"
     ]
    },
    {
     "name": "stdout",
     "output_type": "stream",
     "text": [
      "Stored Match #2882064697 in my database\nStored Match #2881884880 in my database\nStored Match #2881861340 in my database\n"
     ]
    },
    {
     "name": "stdout",
     "output_type": "stream",
     "text": [
      "Stored Match #2881769225 in my database\nStored Match #2881433769 in my database\n"
     ]
    },
    {
     "name": "stdout",
     "output_type": "stream",
     "text": [
      "Stored Match #2881116331 in my database\nStored Match #2880723915 in my database\n"
     ]
    },
    {
     "name": "stdout",
     "output_type": "stream",
     "text": [
      "20\n"
     ]
    },
    {
     "name": "stdout",
     "output_type": "stream",
     "text": [
      "summMatchList 0\n"
     ]
    },
    {
     "name": "stdout",
     "output_type": "stream",
     "text": [
      "21\n"
     ]
    },
    {
     "name": "stdout",
     "output_type": "stream",
     "text": [
      "summMatchList 3\nStored Match #2881296109 in my database\n"
     ]
    },
    {
     "name": "stdout",
     "output_type": "stream",
     "text": [
      "Stored Match #2881305281 in my database\nStored Match #2880613580 in my database\n"
     ]
    },
    {
     "name": "stdout",
     "output_type": "stream",
     "text": [
      "22\n"
     ]
    },
    {
     "name": "stdout",
     "output_type": "stream",
     "text": [
      "summMatchList 2\nStored Match #2881208703 in my database\nStored Match #2881234412 in my database\n"
     ]
    },
    {
     "name": "stdout",
     "output_type": "stream",
     "text": [
      "23\n"
     ]
    },
    {
     "name": "stdout",
     "output_type": "stream",
     "text": [
      "summMatchList 4\nStored Match #2881294128 in my database\nStored Match #2881302769 in my database\nStored Match #2881320718 in my database\n"
     ]
    },
    {
     "name": "stdout",
     "output_type": "stream",
     "text": [
      "Stored Match #2881219001 in my database\n"
     ]
    },
    {
     "name": "stdout",
     "output_type": "stream",
     "text": [
      "24\n"
     ]
    },
    {
     "name": "stdout",
     "output_type": "stream",
     "text": [
      "summMatchList 16\n"
     ]
    },
    {
     "name": "stdout",
     "output_type": "stream",
     "text": [
      "Stored Match #2882085756 in my database\nStored Match #2881999438 in my database\nStored Match #2881966327 in my database\nStored Match #2881973334 in my database\nStored Match #2881855896 in my database\nStored Match #2881872304 in my database\nStored Match #2881799537 in my database\nStored Match #2881796962 in my database\nStored Match #2881333728 in my database\nStored Match #2881302403 in my database\nStored Match #2881320718 in my database\nStored Match #2881228224 in my database\nStored Match #2880927873 in my database\nStored Match #2880944166 in my database\nStored Match #2880912086 in my database\nStored Match #2880838409 in my database\n"
     ]
    },
    {
     "name": "stdout",
     "output_type": "stream",
     "text": [
      "25\n"
     ]
    },
    {
     "name": "stdout",
     "output_type": "stream",
     "text": [
      "summMatchList 4\nStored Match #2881311741 in my database\nStored Match #2881219536 in my database\n"
     ]
    },
    {
     "name": "stdout",
     "output_type": "stream",
     "text": [
      "Stored Match #2881197911 in my database\nStored Match #2881234412 in my database\n"
     ]
    },
    {
     "name": "stdout",
     "output_type": "stream",
     "text": [
      "26\n"
     ]
    },
    {
     "name": "stdout",
     "output_type": "stream",
     "text": [
      "summMatchList 6\nStored Match #2881966327 in my database\nStored Match #2881302769 in my database\n"
     ]
    },
    {
     "name": "stdout",
     "output_type": "stream",
     "text": [
      "Stored Match #2881113503 in my database\nStored Match #2881029865 in my database\nStored Match #2880859718 in my database\nStored Match #2880824271 in my database\n"
     ]
    },
    {
     "name": "stdout",
     "output_type": "stream",
     "text": [
      "27\n"
     ]
    },
    {
     "name": "stdout",
     "output_type": "stream",
     "text": [
      "summMatchList 0\n"
     ]
    },
    {
     "name": "stdout",
     "output_type": "stream",
     "text": [
      "28\n"
     ]
    },
    {
     "name": "stdout",
     "output_type": "stream",
     "text": [
      "summMatchList 3\nStored Match #2881239941 in my database\nStored Match #2881238652 in my database\nStored Match #2880748597 in my database\n"
     ]
    },
    {
     "name": "stdout",
     "output_type": "stream",
     "text": [
      "29\n"
     ]
    },
    {
     "name": "stdout",
     "output_type": "stream",
     "text": [
      "summMatchList 5\n"
     ]
    },
    {
     "name": "stdout",
     "output_type": "stream",
     "text": [
      "Stored Match #2881786241 in my database\nStored Match #2881292379 in my database\nStored Match #2881196364 in my database\nStored Match #2880838409 in my database\nStored Match #2880855435 in my database\n"
     ]
    },
    {
     "name": "stdout",
     "output_type": "stream",
     "text": [
      "30\n"
     ]
    },
    {
     "name": "stdout",
     "output_type": "stream",
     "text": [
      "summMatchList 4\nStored Match #2881116331 in my database\nStored Match #2880837463 in my database\nStored Match #2880748356 in my database\nStored Match #2880696133 in my database\n"
     ]
    }
   ],
   "source": [
    "pulled_summoners = deque()\n",
    "i = 1\n",
    "listfor1 = []\n",
    "listfor2 = []\n",
    "listfor3 = []\n",
    "\n",
    "for i in range(1,201,3):\n",
    "    listfor1.append(i)\n",
    "for i in range(2,201,3):\n",
    "    listfor2.append(i)\n",
    "for i in range(3,201,3):\n",
    "    listfor3.append(i)\n",
    "while len(unpulled_summoners) > 0:\n",
    "    if i in listfor1:\n",
    "        set_up('KR')\n",
    "    elif i in listfor2:\n",
    "        set_up2('KR')\n",
    "    elif i in listfor3:\n",
    "        set_up3('KR')\n",
    "    summoner = unpulled_summoners.popleft()\n",
    "    summMatchList = summoner.match_list(begin_time=gather_start)\n",
    "    print('summMatchList' , len(summMatchList))\n",
    "    for match_reference in summMatchList:\n",
    "        # If you are connected to a database, the match will automatically be stored in it.\n",
    "        # Simply pull the match, and it's in your database for whenever you need it again!\n",
    "        # If you pull a match twice, the second time it will be loaded from the database rather than pulled from Riot\n",
    "        # and therefore will not count against your rate limit. This is true of all datatypes, include Summoner.\n",
    "        match = riotapi.get_match(match_reference)\n",
    "        if match is None:  # If the match still fails to load, continue on to the next one\n",
    "            continue\n",
    "        elif str(match) in match_set:\n",
    "            print('Found duplicate' + match)\n",
    "            continue\n",
    "        else:\n",
    "            match_set.add(match)\n",
    "            print(\"Stored {0} in my database\".format(match))\n",
    "    pulled_summoners.append(summoner)\n",
    "    i+=1\n",
    "    t.sleep(90)\n",
    "    print(len(pulled_summoners))"
   ]
  },
  {
   "cell_type": "code",
   "execution_count": null,
   "metadata": {},
   "outputs": [],
   "source": [
    ""
   ]
  }
 ],
 "metadata": {
  "kernelspec": {
   "display_name": "Python 3",
   "language": "python",
   "name": "python3"
  },
  "language_info": {
   "codemirror_mode": {
    "name": "ipython",
    "version": 3.0
   },
   "file_extension": ".py",
   "mimetype": "text/x-python",
   "name": "python",
   "nbconvert_exporter": "python",
   "pygments_lexer": "ipython3",
   "version": "3.6.1"
  }
 },
 "nbformat": 4,
 "nbformat_minor": 0
}